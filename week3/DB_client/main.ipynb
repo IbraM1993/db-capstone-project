{
 "cells": [
  {
   "attachments": {},
   "cell_type": "markdown",
   "metadata": {},
   "source": [
    "# Task One - Create the DB connection and the cursor object"
   ]
  },
  {
   "cell_type": "code",
   "execution_count": 1,
   "metadata": {},
   "outputs": [
    {
     "name": "stdout",
     "output_type": "stream",
     "text": [
      "Connected to the DB...\n"
     ]
    }
   ],
   "source": [
    "import mysql.connector as connector\n",
    "\n",
    "try:\n",
    "    connection=connector.connect(\n",
    "        user=\"capProjDevIM\",\n",
    "        password=\"im1_lemonCapProj\",\n",
    "        database = \"LittleLemonDB\"\n",
    "    )\n",
    "\n",
    "    print(\"Connected to the DB...\")\n",
    "\n",
    "except connector.Error as er:\n",
    "    print(\"Error code:\", er.errno)\n",
    "    print(\"Error message:\", er.msg)\n",
    "\n",
    "\n",
    "cursor = connection.cursor()"
   ]
  },
  {
   "attachments": {},
   "cell_type": "markdown",
   "metadata": {},
   "source": [
    "# Task Two - Show the DB tables"
   ]
  },
  {
   "cell_type": "code",
   "execution_count": 2,
   "metadata": {},
   "outputs": [
    {
     "name": "stdout",
     "output_type": "stream",
     "text": [
      "bookings\n",
      "contactdetails\n",
      "customers\n",
      "menuitems\n",
      "menus\n",
      "orderdeliverystatus\n",
      "orders\n",
      "ordersview\n",
      "roles\n",
      "staff\n"
     ]
    }
   ],
   "source": [
    "show_tables_query = \"\"\"SHOW tables;\"\"\" \n",
    "cursor.execute(show_tables_query)\n",
    "\n",
    "reults = cursor.fetchall()\n",
    "for r in reults:\n",
    "    print(r[0])"
   ]
  },
  {
   "attachments": {},
   "cell_type": "markdown",
   "metadata": {},
   "source": [
    "# Task Three - Query with table JOIN"
   ]
  },
  {
   "cell_type": "code",
   "execution_count": 3,
   "metadata": {},
   "outputs": [
    {
     "name": "stdout",
     "output_type": "stream",
     "text": [
      "There are 2 customers that spent more than 60$...\n",
      "Thir info are as follows:\n",
      "\n",
      "Customer 1 info:\n",
      "\n",
      "FullName: Rose Rose\n",
      "Email: rose@gmail.com\n",
      "PhoneNumber: 222\n",
      "Address: Lebanon\n",
      "Country: Lebanon\n",
      "City: Lebanon\n",
      "AmounSpent: 190.00\n",
      "\n",
      "\n",
      "******************************\n",
      "Customer 2 info:\n",
      "\n",
      "FullName: Ibrahim Ibrahim\n",
      "Email: ibrahim@gmail.com\n",
      "PhoneNumber: 111\n",
      "Address: Lebanon\n",
      "Country: Lebanon\n",
      "City: Lebanon\n",
      "AmounSpent: 70.00\n",
      "\n",
      "\n",
      "******************************\n"
     ]
    }
   ],
   "source": [
    "customer_join_query = \"\"\"\n",
    "    SELECT\n",
    "        cd.full_name AS FullName,\n",
    "        cd.email AS Email,\n",
    "        cd.phone_number AS PhoneNumber,\n",
    "        cd.address AS Address,\n",
    "        cd.country AS Country,\n",
    "        cd.city AS City,\n",
    "        o.total_cost AS AmounSpent\n",
    "\n",
    "    FROM\n",
    "        Customers C\n",
    "    \n",
    "    INNER JOIN\n",
    "        ContactDetails CD\n",
    "        ON C.contact_id = CD.contact_id\n",
    "\n",
    "    INNER JOIN Orders O\n",
    "        ON C.Customer_ID = O.Customer_ID\n",
    "    \n",
    "    WHERE O.Total_Cost > 60\n",
    "\n",
    "    ORDER BY O.Total_Cost DESC;\n",
    "\"\"\"\n",
    "\n",
    "cursor.execute(customer_join_query)\n",
    "results = cursor.fetchall()\n",
    "columns = cursor.column_names\n",
    "\n",
    "print(\"There are {} customers that spent more than 60$...\".format(len(results)))\n",
    "print(\"Thir info are as follows:\\n\")\n",
    "for i, r in enumerate(results):\n",
    "    print(\"Customer {} info:\\n\".format(i+1))\n",
    "\n",
    "    for j in range(len(r)):\n",
    "        print(\"{}: {}\".format(columns[j], r[j]))\n",
    "\n",
    "    print(\"\\n\")\n",
    "    print(\"*\"*30)"
   ]
  },
  {
   "attachments": {},
   "cell_type": "markdown",
   "metadata": {},
   "source": [
    "# Closing the DB connection"
   ]
  },
  {
   "cell_type": "code",
   "execution_count": 4,
   "metadata": {},
   "outputs": [
    {
     "name": "stdout",
     "output_type": "stream",
     "text": [
      "MySQL connection and cursor are closed.\n"
     ]
    }
   ],
   "source": [
    "if connection.is_connected():\n",
    "    connection.close()\n",
    "    cursor.close()\n",
    "    print(\"MySQL connection and cursor are closed.\")\n",
    "    \n",
    "else:\n",
    "    print(\"Connection and cursor already closed\")"
   ]
  }
 ],
 "metadata": {
  "kernelspec": {
   "display_name": "meta",
   "language": "python",
   "name": "python3"
  },
  "language_info": {
   "codemirror_mode": {
    "name": "ipython",
    "version": 3
   },
   "file_extension": ".py",
   "mimetype": "text/x-python",
   "name": "python",
   "nbconvert_exporter": "python",
   "pygments_lexer": "ipython3",
   "version": "3.8.16"
  },
  "orig_nbformat": 4
 },
 "nbformat": 4,
 "nbformat_minor": 2
}
